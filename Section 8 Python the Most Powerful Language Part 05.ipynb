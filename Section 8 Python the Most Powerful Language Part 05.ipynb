{
 "cells": [
  {
   "cell_type": "markdown",
   "id": "586e6867",
   "metadata": {},
   "source": [
    "# Python Sets"
   ]
  },
  {
   "cell_type": "code",
   "execution_count": 4,
   "id": "fe5f93d4",
   "metadata": {},
   "outputs": [
    {
     "name": "stdout",
     "output_type": "stream",
     "text": [
      "{'cricket', 'bedminton', 'basketball'}\n"
     ]
    }
   ],
   "source": [
    "set1 = {'cricket', 'basketball', 'bedminton'}\n",
    "print(set1)"
   ]
  },
  {
   "cell_type": "markdown",
   "id": "16103839",
   "metadata": {},
   "source": [
    "# Set Items"
   ]
  },
  {
   "cell_type": "code",
   "execution_count": 5,
   "id": "d2b691e3",
   "metadata": {},
   "outputs": [],
   "source": [
    "#Set items are unordered, unchangeable, and do not allow duplicate values."
   ]
  },
  {
   "cell_type": "markdown",
   "id": "1cae2c07",
   "metadata": {},
   "source": [
    "# Duplicates Not Allowed"
   ]
  },
  {
   "cell_type": "code",
   "execution_count": 6,
   "id": "f8c79126",
   "metadata": {},
   "outputs": [
    {
     "name": "stdout",
     "output_type": "stream",
     "text": [
      "{'cricket', 'bedminton', 'basketball'}\n"
     ]
    }
   ],
   "source": [
    "set1 = {'cricket', 'basketball', 'bedminton', 'cricket'}\n",
    "print(set1)"
   ]
  },
  {
   "cell_type": "markdown",
   "id": "db050127",
   "metadata": {},
   "source": [
    "# True and 1 is considered the same value:"
   ]
  },
  {
   "cell_type": "code",
   "execution_count": 7,
   "id": "1933906b",
   "metadata": {},
   "outputs": [
    {
     "name": "stdout",
     "output_type": "stream",
     "text": [
      "{1, 2, 'cricket', 'bedminton', 'basketball'}\n"
     ]
    }
   ],
   "source": [
    "set1 = {'cricket', 'basketball', 'bedminton', 1 , 2 , True}\n",
    "print(set1)"
   ]
  },
  {
   "cell_type": "markdown",
   "id": "f38e4035",
   "metadata": {},
   "source": [
    "# False and 0 is considered the same value:"
   ]
  },
  {
   "cell_type": "code",
   "execution_count": 8,
   "id": "fbc06481",
   "metadata": {},
   "outputs": [
    {
     "name": "stdout",
     "output_type": "stream",
     "text": [
      "{0, 1, 2, 'cricket', 'bedminton', 'basketball'}\n"
     ]
    }
   ],
   "source": [
    "set1 = {'cricket', 'basketball', 'bedminton', 1 , 2 , 0,False,  True}\n",
    "print(set1)"
   ]
  },
  {
   "cell_type": "markdown",
   "id": "c9e6842f",
   "metadata": {},
   "source": [
    "# Length of a Set: len(set_name)"
   ]
  },
  {
   "cell_type": "code",
   "execution_count": 9,
   "id": "038c543f",
   "metadata": {},
   "outputs": [
    {
     "name": "stdout",
     "output_type": "stream",
     "text": [
      "6\n"
     ]
    }
   ],
   "source": [
    "set1 = {'cricket', 'basketball', 'bedminton', 1 , 2 , 0,False,  True}\n",
    "print(len(set1))"
   ]
  },
  {
   "cell_type": "markdown",
   "id": "97075012",
   "metadata": {},
   "source": [
    "# Set Items - Data Types"
   ]
  },
  {
   "cell_type": "code",
   "execution_count": 10,
   "id": "c55fc69f",
   "metadata": {},
   "outputs": [
    {
     "name": "stdout",
     "output_type": "stream",
     "text": [
      "{1, 2, 3, 4, 5}\n",
      "{False, True}\n",
      "{'cricket', 'bedminton', 'basketball'}\n"
     ]
    }
   ],
   "source": [
    "set1 = {1, 2, 3, 4, 5}\n",
    "set2 = {True, False}\n",
    "set3 = {'cricket', 'basketball', 'bedminton'}\n",
    "print(set1)\n",
    "print(set2)\n",
    "print(set3)\n"
   ]
  },
  {
   "cell_type": "markdown",
   "id": "dcf0b5f0",
   "metadata": {},
   "source": [
    "# to check the type: type(set_name)"
   ]
  },
  {
   "cell_type": "code",
   "execution_count": 11,
   "id": "2a4ac471",
   "metadata": {},
   "outputs": [
    {
     "name": "stdout",
     "output_type": "stream",
     "text": [
      "<class 'set'>\n"
     ]
    }
   ],
   "source": [
    "set1 = {True, False}\n",
    "print(type(set1))"
   ]
  },
  {
   "cell_type": "markdown",
   "id": "85784b1c",
   "metadata": {},
   "source": [
    "# The set() Constructor: set(container_name)"
   ]
  },
  {
   "cell_type": "code",
   "execution_count": 12,
   "id": "dbf57ace",
   "metadata": {},
   "outputs": [
    {
     "name": "stdout",
     "output_type": "stream",
     "text": [
      "{1, 2, 3, 4, 5}\n"
     ]
    }
   ],
   "source": [
    "list1 = [1,2,3,4,5]\n",
    "set1 = set(list1)\n",
    "print(set1)"
   ]
  },
  {
   "cell_type": "markdown",
   "id": "32b4ae18",
   "metadata": {},
   "source": [
    "# Access Items"
   ]
  },
  {
   "cell_type": "code",
   "execution_count": 13,
   "id": "79ec26ef",
   "metadata": {},
   "outputs": [
    {
     "name": "stdout",
     "output_type": "stream",
     "text": [
      "banana\n",
      "mango\n",
      "apple\n"
     ]
    }
   ],
   "source": [
    "set1 = {\"apple\", \"banana\", \"mango\"}\n",
    "for x in set1:\n",
    "    print(x)"
   ]
  },
  {
   "cell_type": "code",
   "execution_count": 14,
   "id": "b22e5453",
   "metadata": {},
   "outputs": [
    {
     "name": "stdout",
     "output_type": "stream",
     "text": [
      "True\n"
     ]
    }
   ],
   "source": [
    "set1 = {\"apple\", \"banana\", \"mango\"}\n",
    "print(\"banana\" in set1)"
   ]
  },
  {
   "cell_type": "code",
   "execution_count": 15,
   "id": "b9f1e747",
   "metadata": {},
   "outputs": [
    {
     "name": "stdout",
     "output_type": "stream",
     "text": [
      "False\n"
     ]
    }
   ],
   "source": [
    "set1 = {\"apple\", \"banana\", \"mango\"}\n",
    "print(\"banana\" not in set1)"
   ]
  },
  {
   "cell_type": "markdown",
   "id": "2c29b826",
   "metadata": {},
   "source": [
    "# Add Items"
   ]
  },
  {
   "cell_type": "code",
   "execution_count": 16,
   "id": "e165c986",
   "metadata": {},
   "outputs": [
    {
     "name": "stdout",
     "output_type": "stream",
     "text": [
      "{'banana', 'mango', 'apple', 'orange'}\n"
     ]
    }
   ],
   "source": [
    "set1 = {\"apple\", \"banana\", \"mango\"}\n",
    "set1.add(\"orange\")\n",
    "print(set1)"
   ]
  },
  {
   "cell_type": "markdown",
   "id": "29c154f4",
   "metadata": {},
   "source": [
    "# Add Sets: Update()"
   ]
  },
  {
   "cell_type": "code",
   "execution_count": 17,
   "id": "e51cc823",
   "metadata": {},
   "outputs": [
    {
     "name": "stdout",
     "output_type": "stream",
     "text": [
      "{'banana', 'raddish', 'carrot', 'mango', 'apple', 'lady finger'}\n"
     ]
    }
   ],
   "source": [
    "set1 = {\"apple\", \"banana\", \"mango\"}\n",
    "set2 = {\"carrot\", \"lady finger\", \"raddish\"}\n",
    "\n",
    "set1.update(set2)\n",
    "print(set1)"
   ]
  },
  {
   "cell_type": "markdown",
   "id": "356e4a18",
   "metadata": {},
   "source": [
    "# Add Any Iterable"
   ]
  },
  {
   "cell_type": "code",
   "execution_count": 18,
   "id": "204dd344",
   "metadata": {},
   "outputs": [
    {
     "name": "stdout",
     "output_type": "stream",
     "text": [
      "{'banana', 'kiwi', 'orange', 'mango', 'apple'}\n"
     ]
    }
   ],
   "source": [
    "set1 = {\"apple\", \"banana\", \"mango\"}\n",
    "list1 = [\"kiwi\", \"orange\"]\n",
    "\n",
    "set1.update(list1)\n",
    "print(set1)"
   ]
  },
  {
   "cell_type": "markdown",
   "id": "685d5619",
   "metadata": {},
   "source": [
    "# Remove Item: Remove() or discard()"
   ]
  },
  {
   "cell_type": "code",
   "execution_count": 19,
   "id": "45c8facc",
   "metadata": {},
   "outputs": [
    {
     "name": "stdout",
     "output_type": "stream",
     "text": [
      "set =  {'mango', 'apple'}\n"
     ]
    }
   ],
   "source": [
    "set1 = {\"apple\", \"banana\", \"mango\"}\n",
    "set1.remove(\"banana\")\n",
    "print(\"set = \", set1)"
   ]
  },
  {
   "cell_type": "code",
   "execution_count": 20,
   "id": "3996bee6",
   "metadata": {},
   "outputs": [
    {
     "name": "stdout",
     "output_type": "stream",
     "text": [
      "set =  {'mango', 'apple'}\n"
     ]
    }
   ],
   "source": [
    "set1 = {\"apple\", \"banana\", \"mango\"}\n",
    "set1.discard(\"banana\")\n",
    "print(\"set = \", set1)"
   ]
  },
  {
   "cell_type": "markdown",
   "id": "32d2cac2",
   "metadata": {},
   "source": [
    "# Remove random item: pop()"
   ]
  },
  {
   "cell_type": "code",
   "execution_count": 21,
   "id": "a1743bec",
   "metadata": {},
   "outputs": [
    {
     "name": "stdout",
     "output_type": "stream",
     "text": [
      "set =  {'mango', 'apple'}\n"
     ]
    }
   ],
   "source": [
    "set1 = {\"apple\", \"banana\", \"mango\"}\n",
    "set1.pop()\n",
    "print(\"set = \", set1)"
   ]
  },
  {
   "cell_type": "markdown",
   "id": "a9c4d902",
   "metadata": {},
   "source": [
    "# Clear the set: clear()"
   ]
  },
  {
   "cell_type": "code",
   "execution_count": 22,
   "id": "bc7a2049",
   "metadata": {},
   "outputs": [
    {
     "name": "stdout",
     "output_type": "stream",
     "text": [
      "set =  set()\n"
     ]
    }
   ],
   "source": [
    "set1 = {\"apple\", \"banana\", \"mango\"}\n",
    "set1.clear()\n",
    "print(\"set = \", set1)"
   ]
  },
  {
   "cell_type": "markdown",
   "id": "62cdeabd",
   "metadata": {},
   "source": [
    "# Delete the set completely: del"
   ]
  },
  {
   "cell_type": "code",
   "execution_count": 23,
   "id": "a593e9a0",
   "metadata": {},
   "outputs": [],
   "source": [
    "set1 = {\"apple\", \"banana\", \"mango\"}\n",
    "del set1"
   ]
  },
  {
   "cell_type": "markdown",
   "id": "2842347c",
   "metadata": {},
   "source": [
    "# Loop Items: for loop"
   ]
  },
  {
   "cell_type": "code",
   "execution_count": 24,
   "id": "753413d5",
   "metadata": {},
   "outputs": [
    {
     "name": "stdout",
     "output_type": "stream",
     "text": [
      "banana\n",
      "mango\n",
      "apple\n"
     ]
    }
   ],
   "source": [
    "set1 = {\"apple\", \"banana\", \"mango\"}\n",
    "for x in set1:\n",
    "    print(x)"
   ]
  },
  {
   "cell_type": "markdown",
   "id": "8e25dd26",
   "metadata": {},
   "source": [
    "# Union of sets: union()"
   ]
  },
  {
   "cell_type": "code",
   "execution_count": 25,
   "id": "99d80f3e",
   "metadata": {},
   "outputs": [
    {
     "name": "stdout",
     "output_type": "stream",
     "text": [
      "{1, 2, 3, 'c', 'b', 'a'}\n"
     ]
    }
   ],
   "source": [
    "set1 = {\"a\", \"b\", \"c\"}\n",
    "set2 = {1, 2, 3}\n",
    "\n",
    "set3 = set1.union(set2)\n",
    "print(set3)"
   ]
  },
  {
   "cell_type": "markdown",
   "id": "de2597c6",
   "metadata": {},
   "source": [
    "# use the | operator instead of the union() method"
   ]
  },
  {
   "cell_type": "code",
   "execution_count": 26,
   "id": "8e9ebba0",
   "metadata": {},
   "outputs": [
    {
     "name": "stdout",
     "output_type": "stream",
     "text": [
      "{1, 2, 3, 'c', 'b', 'a'}\n"
     ]
    }
   ],
   "source": [
    "set1 = {\"a\", \"b\", \"c\"}\n",
    "set2 = {1, 2, 3}\n",
    "\n",
    "set3 = set1|set2\n",
    "print(set3)"
   ]
  },
  {
   "cell_type": "markdown",
   "id": "78809820",
   "metadata": {},
   "source": [
    "# Join Multiple Sets"
   ]
  },
  {
   "cell_type": "code",
   "execution_count": 27,
   "id": "3b3f97cc",
   "metadata": {},
   "outputs": [
    {
     "name": "stdout",
     "output_type": "stream",
     "text": [
      "{1, 2, 3, '**', 'orange', 'b', 'a', '++', 'c', 'mango', 'apple'}\n"
     ]
    }
   ],
   "source": [
    "set1 = {\"a\", \"b\", \"c\"}\n",
    "set2 = {1, 2, 3}\n",
    "set3 = {\"apple\", \"mango\", \"orange\"}\n",
    "set4 = {\"++\", \"**\"}\n",
    "\n",
    "all_sets = set1.union(set2,set3,set4)\n",
    "print(all_sets)"
   ]
  },
  {
   "cell_type": "code",
   "execution_count": 28,
   "id": "00b05971",
   "metadata": {},
   "outputs": [
    {
     "name": "stdout",
     "output_type": "stream",
     "text": [
      "{1, 2, 3, '**', 'orange', 'b', 'a', '++', 'c', 'mango', 'apple'}\n"
     ]
    }
   ],
   "source": [
    "set1 = {\"a\", \"b\", \"c\"}\n",
    "set2 = {1, 2, 3}\n",
    "set3 = {\"apple\", \"mango\", \"orange\"}\n",
    "set4 = {\"++\", \"**\"}\n",
    "\n",
    "all_sets = set1|set2|set3|set4\n",
    "print(all_sets)"
   ]
  },
  {
   "cell_type": "markdown",
   "id": "9c68613e",
   "metadata": {},
   "source": [
    "# Join a Set and a Tuple"
   ]
  },
  {
   "cell_type": "code",
   "execution_count": 29,
   "id": "d40d0114",
   "metadata": {},
   "outputs": [
    {
     "name": "stdout",
     "output_type": "stream",
     "text": [
      "{1, 2, 3, 'a', 'b', 'c'}\n"
     ]
    }
   ],
   "source": [
    "set1 = {\"a\", \"b\", \"c\"}\n",
    "tuple1 = (1,2,3)\n",
    "\n",
    "z = set1.union(tuple1)\n",
    "print(z)"
   ]
  },
  {
   "cell_type": "markdown",
   "id": "9f2ea26e",
   "metadata": {},
   "source": [
    "# update() method inserts the items in set2: update()"
   ]
  },
  {
   "cell_type": "code",
   "execution_count": 30,
   "id": "b4b6a097",
   "metadata": {},
   "outputs": [
    {
     "name": "stdout",
     "output_type": "stream",
     "text": [
      "{1, 2, 3, 'a', 'b', 'c'}\n"
     ]
    }
   ],
   "source": [
    "set1 = {\"a\", \"b\", \"c\"}\n",
    "tuple1 = (1,2,3)\n",
    "\n",
    "set1.update(tuple1)\n",
    "print(set1)"
   ]
  },
  {
   "cell_type": "markdown",
   "id": "89f7a377",
   "metadata": {},
   "source": [
    "# Join set1 and set2, but keep only the duplicates: intersection()"
   ]
  },
  {
   "cell_type": "code",
   "execution_count": 31,
   "id": "b999c3e2",
   "metadata": {},
   "outputs": [
    {
     "name": "stdout",
     "output_type": "stream",
     "text": [
      "{3}\n"
     ]
    }
   ],
   "source": [
    "set1 = {\"a\", \"b\", \"c\", 3}\n",
    "tuple1 = (1,2,3)\n",
    "\n",
    "z = set1.intersection(tuple1)\n",
    "print(z)"
   ]
  },
  {
   "cell_type": "code",
   "execution_count": 32,
   "id": "1fbd6869",
   "metadata": {},
   "outputs": [
    {
     "name": "stdout",
     "output_type": "stream",
     "text": [
      "{'apple'}\n"
     ]
    }
   ],
   "source": [
    "set1 = {\"apple\", \"banana\", \"cherry\"}\n",
    "set2 = {\"google\", \"microsoft\", \"apple\"}\n",
    "\n",
    "set3 = set1 & set2\n",
    "print(set3)"
   ]
  },
  {
   "cell_type": "code",
   "execution_count": 33,
   "id": "d32f3297",
   "metadata": {},
   "outputs": [
    {
     "name": "stdout",
     "output_type": "stream",
     "text": [
      "{False, 1, 'apple'}\n"
     ]
    }
   ],
   "source": [
    "set1 = {\"apple\", 1,  \"banana\", 0, \"cherry\"}\n",
    "set2 = {False, \"google\", 1, \"apple\", 2, True}\n",
    "\n",
    "set3 = set1.intersection(set2)\n",
    "\n",
    "print(set3)"
   ]
  },
  {
   "cell_type": "markdown",
   "id": "6630b157",
   "metadata": {},
   "source": [
    "# Difference(): return a new set that will contain only the items from the first set"
   ]
  },
  {
   "cell_type": "code",
   "execution_count": 34,
   "id": "e6c6d732",
   "metadata": {},
   "outputs": [
    {
     "name": "stdout",
     "output_type": "stream",
     "text": [
      "{'banana', 'cherry'}\n"
     ]
    }
   ],
   "source": [
    "set1 = {\"apple\", 1,  \"banana\", 0, \"cherry\"}\n",
    "set2 = {False, \"google\", 1, \"apple\", 2, True}\n",
    "\n",
    "set3 = set1.difference(set2)\n",
    "\n",
    "print(set3)"
   ]
  },
  {
   "cell_type": "code",
   "execution_count": 35,
   "id": "c9c29d42",
   "metadata": {},
   "outputs": [
    {
     "name": "stdout",
     "output_type": "stream",
     "text": [
      "{'banana', 'cherry'}\n"
     ]
    }
   ],
   "source": [
    "set1 = {\"apple\", \"banana\", \"cherry\"}\n",
    "set2 = {\"google\", \"microsoft\", \"apple\"}\n",
    "\n",
    "set3 = set1 - set2\n",
    "print(set3)"
   ]
  },
  {
   "cell_type": "code",
   "execution_count": 36,
   "id": "df1fb8d8",
   "metadata": {},
   "outputs": [
    {
     "name": "stdout",
     "output_type": "stream",
     "text": [
      "{'banana', 'cherry'}\n"
     ]
    }
   ],
   "source": [
    "set1 = {\"apple\", \"banana\", \"cherry\"}\n",
    "set2 = {\"google\", \"microsoft\", \"apple\"}\n",
    "\n",
    "set1.difference_update(set2)\n",
    "\n",
    "print(set1)"
   ]
  },
  {
   "cell_type": "markdown",
   "id": "57924f3d",
   "metadata": {},
   "source": [
    "# symmetric_difference(): method will keep only the elements that are NOT present in both sets"
   ]
  },
  {
   "cell_type": "code",
   "execution_count": 37,
   "id": "6545602e",
   "metadata": {},
   "outputs": [
    {
     "name": "stdout",
     "output_type": "stream",
     "text": [
      "{'banana', 'cherry', 'microsoft', 'google'}\n"
     ]
    }
   ],
   "source": [
    "set1 = {\"apple\", \"banana\", \"cherry\"}\n",
    "set2 = {\"google\", \"microsoft\", \"apple\"}\n",
    "\n",
    "set3 = set1.symmetric_difference(set2)\n",
    "print(set3)"
   ]
  },
  {
   "cell_type": "markdown",
   "id": "9129e537",
   "metadata": {},
   "source": [
    "# ^ operator instead of the symmetric_difference()"
   ]
  },
  {
   "cell_type": "code",
   "execution_count": 38,
   "id": "ddb5ae0c",
   "metadata": {},
   "outputs": [
    {
     "name": "stdout",
     "output_type": "stream",
     "text": [
      "{'banana', 'cherry', 'microsoft', 'google'}\n"
     ]
    }
   ],
   "source": [
    "set1 = {\"apple\", \"banana\", \"cherry\"}\n",
    "set2 = {\"google\", \"microsoft\", \"apple\"}\n",
    "\n",
    "set3 = set1 ^ set2\n",
    "print(set3)"
   ]
  },
  {
   "cell_type": "markdown",
   "id": "b69d839e",
   "metadata": {},
   "source": [
    "# symmetric_difference_update() method to keep the items that are not present in both sets"
   ]
  },
  {
   "cell_type": "code",
   "execution_count": 39,
   "id": "932e3bcb",
   "metadata": {},
   "outputs": [
    {
     "name": "stdout",
     "output_type": "stream",
     "text": [
      "{'banana', 'cherry', 'microsoft', 'google'}\n"
     ]
    }
   ],
   "source": [
    "set1 = {\"apple\", \"banana\", \"cherry\"}\n",
    "set2 = {\"google\", \"microsoft\", \"apple\"}\n",
    "\n",
    "set1.symmetric_difference_update(set2)\n",
    "print(set1)"
   ]
  },
  {
   "cell_type": "markdown",
   "id": "872a8c78",
   "metadata": {},
   "source": [
    "# Python Dictionaries"
   ]
  },
  {
   "cell_type": "code",
   "execution_count": 40,
   "id": "eb3b62ab",
   "metadata": {},
   "outputs": [
    {
     "name": "stdout",
     "output_type": "stream",
     "text": [
      "{'Name': 'Sansa Stark', 'Class': 'Masters', 'Roll No.': 239018}\n"
     ]
    }
   ],
   "source": [
    "thisdict = {\n",
    "    \"Name\" : \"Sansa Stark\",\n",
    "    \"Class\" : \"Masters\",\n",
    "    \"Roll No.\" : 239018\n",
    "}\n",
    "\n",
    "print(thisdict)"
   ]
  },
  {
   "cell_type": "markdown",
   "id": "b52eba44",
   "metadata": {},
   "source": [
    "# Dictionary Items: dict_name[item_name]"
   ]
  },
  {
   "cell_type": "code",
   "execution_count": 41,
   "id": "adc3959d",
   "metadata": {},
   "outputs": [
    {
     "name": "stdout",
     "output_type": "stream",
     "text": [
      "Sansa Stark\n"
     ]
    }
   ],
   "source": [
    "thisdict = {\n",
    "    \"Name\" : \"Sansa Stark\",\n",
    "    \"Class\" : \"Masters\",\n",
    "    \"Roll No.\" : 239018\n",
    "}\n",
    "\n",
    "print(thisdict[\"Name\"])"
   ]
  },
  {
   "cell_type": "markdown",
   "id": "4a47ca74",
   "metadata": {},
   "source": [
    "# Duplicates Not Allowed"
   ]
  },
  {
   "cell_type": "code",
   "execution_count": 42,
   "id": "864832ec",
   "metadata": {},
   "outputs": [
    {
     "name": "stdout",
     "output_type": "stream",
     "text": [
      "{'Name': 'Sansa Stark', 'Class': 'Masters', 'Roll No.': 239018}\n"
     ]
    }
   ],
   "source": [
    "thisdict = {\n",
    "    \"Name\" : \"Sansa Stark\",\n",
    "    \"Class\" : \"Masters\",\n",
    "    \"Roll No.\" : 239018,\n",
    "    \"Roll No.\" : 239018\n",
    "}\n",
    "\n",
    "print(thisdict)"
   ]
  },
  {
   "cell_type": "markdown",
   "id": "e884b225",
   "metadata": {},
   "source": [
    "# Dictionary Length: len(dict_name)"
   ]
  },
  {
   "cell_type": "code",
   "execution_count": 43,
   "id": "7171ffa0",
   "metadata": {},
   "outputs": [
    {
     "name": "stdout",
     "output_type": "stream",
     "text": [
      "3\n"
     ]
    }
   ],
   "source": [
    "print(len(thisdict))"
   ]
  },
  {
   "cell_type": "markdown",
   "id": "96446a5b",
   "metadata": {},
   "source": [
    "# Dictionary Items - Data Types"
   ]
  },
  {
   "cell_type": "code",
   "execution_count": 44,
   "id": "c4639e44",
   "metadata": {},
   "outputs": [
    {
     "name": "stdout",
     "output_type": "stream",
     "text": [
      "{'Name': 'Sansa Stark', 'Class': 'Masters', 'Roll No.': 239018, 'color': ['brown', 'blue', 'red']}\n"
     ]
    }
   ],
   "source": [
    "thisdict = {\n",
    "    \"Name\" : \"Sansa Stark\",\n",
    "    \"Class\" : \"Masters\",\n",
    "    \"Roll No.\" : 239018,\n",
    "    \"color\" : ['brown', 'blue', 'red']\n",
    "}\n",
    "\n",
    "print(thisdict)"
   ]
  },
  {
   "cell_type": "markdown",
   "id": "5fd8cf01",
   "metadata": {},
   "source": [
    "# type()"
   ]
  },
  {
   "cell_type": "code",
   "execution_count": 45,
   "id": "06351f5b",
   "metadata": {},
   "outputs": [
    {
     "name": "stdout",
     "output_type": "stream",
     "text": [
      "<class 'dict'>\n"
     ]
    }
   ],
   "source": [
    "print(type(thisdict))"
   ]
  },
  {
   "cell_type": "markdown",
   "id": "986952b2",
   "metadata": {},
   "source": [
    "# The dict() Constructor"
   ]
  },
  {
   "cell_type": "code",
   "execution_count": 46,
   "id": "14dc370a",
   "metadata": {},
   "outputs": [
    {
     "name": "stdout",
     "output_type": "stream",
     "text": [
      "{'name': 'John', 'age': 36, 'country': 'Norway'}\n"
     ]
    }
   ],
   "source": [
    "thisdict = dict(name = \"John\", age = 36, country = \"Norway\")\n",
    "print(thisdict)"
   ]
  },
  {
   "cell_type": "markdown",
   "id": "9ac42617",
   "metadata": {},
   "source": [
    "# Accessing Items: dict_name[item_name]"
   ]
  },
  {
   "cell_type": "code",
   "execution_count": 47,
   "id": "29216c90",
   "metadata": {},
   "outputs": [
    {
     "name": "stdout",
     "output_type": "stream",
     "text": [
      "Sansa Stark\n"
     ]
    }
   ],
   "source": [
    "thisdict = {\n",
    "    \"Name\" : \"Sansa Stark\",\n",
    "    \"Class\" : \"Masters\",\n",
    "    \"Roll No.\" : 239018\n",
    "}\n",
    "\n",
    "print(thisdict[\"Name\"])"
   ]
  },
  {
   "cell_type": "markdown",
   "id": "aacfde90",
   "metadata": {},
   "source": [
    "# get(): give the same result"
   ]
  },
  {
   "cell_type": "code",
   "execution_count": 48,
   "id": "d6c19f57",
   "metadata": {},
   "outputs": [
    {
     "name": "stdout",
     "output_type": "stream",
     "text": [
      "Sansa Stark\n"
     ]
    }
   ],
   "source": [
    "print(thisdict.get(\"Name\"))"
   ]
  },
  {
   "cell_type": "markdown",
   "id": "3470280a",
   "metadata": {},
   "source": [
    "# keys(): returns list of all keys"
   ]
  },
  {
   "cell_type": "code",
   "execution_count": 49,
   "id": "6fc08e17",
   "metadata": {},
   "outputs": [
    {
     "name": "stdout",
     "output_type": "stream",
     "text": [
      "dict_keys(['Name', 'Class', 'Roll No.'])\n"
     ]
    }
   ],
   "source": [
    "print(thisdict.keys())"
   ]
  },
  {
   "cell_type": "markdown",
   "id": "9f7d8fde",
   "metadata": {},
   "source": [
    "# Can change the value of particular key"
   ]
  },
  {
   "cell_type": "code",
   "execution_count": 50,
   "id": "dcf3f93e",
   "metadata": {},
   "outputs": [
    {
     "name": "stdout",
     "output_type": "stream",
     "text": [
      "dict_keys(['brand', 'model', 'year'])\n",
      "dict_keys(['brand', 'model', 'year', 'color'])\n"
     ]
    }
   ],
   "source": [
    "car = {\n",
    "\"brand\": \"Ford\",\n",
    "\"model\": \"Mustang\",\n",
    "\"year\": 1964\n",
    "}\n",
    "\n",
    "x = car.keys()\n",
    "\n",
    "print(x) #before the change\n",
    "\n",
    "car[\"color\"] = \"white\"\n",
    "\n",
    "print(x) #after the change"
   ]
  },
  {
   "cell_type": "markdown",
   "id": "248026bd",
   "metadata": {},
   "source": [
    "# Get Values: values()"
   ]
  },
  {
   "cell_type": "code",
   "execution_count": 51,
   "id": "8c251513",
   "metadata": {},
   "outputs": [
    {
     "name": "stdout",
     "output_type": "stream",
     "text": [
      "dict_values(['Sansa Stark', 'Masters', 239018])\n"
     ]
    }
   ],
   "source": [
    "x = thisdict.values()\n",
    "print(x)"
   ]
  },
  {
   "cell_type": "markdown",
   "id": "991dd3a7",
   "metadata": {},
   "source": [
    "# Get Items: items()"
   ]
  },
  {
   "cell_type": "code",
   "execution_count": 52,
   "id": "b90ba7d7",
   "metadata": {},
   "outputs": [
    {
     "name": "stdout",
     "output_type": "stream",
     "text": [
      "dict_items([('Name', 'Sansa Stark'), ('Class', 'Masters'), ('Roll No.', 239018)])\n"
     ]
    }
   ],
   "source": [
    "x = thisdict.items()\n",
    "print(x)"
   ]
  },
  {
   "cell_type": "code",
   "execution_count": 53,
   "id": "fe4c2ad2",
   "metadata": {},
   "outputs": [
    {
     "name": "stdout",
     "output_type": "stream",
     "text": [
      "dict_items([('brand', 'Ford'), ('model', 'Mustang'), ('year', 1964)])\n",
      "dict_items([('brand', 'Ford'), ('model', 'Mustang'), ('year', 1964), ('color', 'white')])\n"
     ]
    }
   ],
   "source": [
    "car = {\n",
    "\"brand\": \"Ford\",\n",
    "\"model\": \"Mustang\",\n",
    "\"year\": 1964\n",
    "}\n",
    "\n",
    "x = car.items()\n",
    "\n",
    "print(x) #before the change\n",
    "\n",
    "car[\"color\"] = \"white\"\n",
    "\n",
    "print(x) #after the change"
   ]
  },
  {
   "cell_type": "markdown",
   "id": "0252e702",
   "metadata": {},
   "source": [
    "# Check if Key Exists"
   ]
  },
  {
   "cell_type": "code",
   "execution_count": 54,
   "id": "e1b9ef24",
   "metadata": {},
   "outputs": [
    {
     "name": "stdout",
     "output_type": "stream",
     "text": [
      "Yes! it is in it\n"
     ]
    }
   ],
   "source": [
    "thisdict = {\n",
    "    \"Name\" : \"Sansa Stark\",\n",
    "    \"Class\" : \"Masters\",\n",
    "    \"Roll No.\" : 239018\n",
    "}\n",
    "\n",
    "if \"Name\" in thisdict:\n",
    "    print(\"Yes! it is in it\")"
   ]
  },
  {
   "cell_type": "markdown",
   "id": "d05d5c12",
   "metadata": {},
   "source": [
    "# Change Dictionary Items"
   ]
  },
  {
   "cell_type": "code",
   "execution_count": 55,
   "id": "b15e92f2",
   "metadata": {},
   "outputs": [
    {
     "name": "stdout",
     "output_type": "stream",
     "text": [
      "{'Name': 'Sansa Stark', 'Class': '1st year', 'Roll No.': 239018}\n"
     ]
    }
   ],
   "source": [
    "thisdict = {\n",
    "    \"Name\" : \"Sansa Stark\",\n",
    "    \"Class\" : \"Masters\",\n",
    "    \"Roll No.\" : 239018\n",
    "}\n",
    "\n",
    "thisdict[\"Class\"] = \"1st year\"\n",
    "print(thisdict)"
   ]
  },
  {
   "cell_type": "markdown",
   "id": "8ed4bde6",
   "metadata": {},
   "source": [
    "# Update Dictionary: update()"
   ]
  },
  {
   "cell_type": "code",
   "execution_count": 56,
   "id": "791cab5a",
   "metadata": {},
   "outputs": [
    {
     "name": "stdout",
     "output_type": "stream",
     "text": [
      "{'Name': 'Sansa Stark', 'Class': 'Masters', 'Roll No.': 7865432000}\n"
     ]
    }
   ],
   "source": [
    "thisdict = {\n",
    "    \"Name\" : \"Sansa Stark\",\n",
    "    \"Class\" : \"Masters\",\n",
    "    \"Roll No.\" : 239018\n",
    "}\n",
    "\n",
    "thisdict.update({\"Roll No.\" : 7865432000})\n",
    "print(thisdict)"
   ]
  },
  {
   "cell_type": "markdown",
   "id": "3d1a13ef",
   "metadata": {},
   "source": [
    "# Adding Items"
   ]
  },
  {
   "cell_type": "code",
   "execution_count": 57,
   "id": "0eb6c29a",
   "metadata": {},
   "outputs": [
    {
     "name": "stdout",
     "output_type": "stream",
     "text": [
      "{'Name': 'Sansa Stark', 'Class': 'Masters', 'Roll No.': 239018, 'position': 'Class representative'}\n"
     ]
    }
   ],
   "source": [
    "thisdict = {\n",
    "    \"Name\" : \"Sansa Stark\",\n",
    "    \"Class\" : \"Masters\",\n",
    "    \"Roll No.\" : 239018\n",
    "}\n",
    "\n",
    "thisdict[\"position\"] = \"Class representative\"\n",
    "print(thisdict)"
   ]
  },
  {
   "cell_type": "markdown",
   "id": "6d793b8a",
   "metadata": {},
   "source": [
    "# Removing Items: pop()"
   ]
  },
  {
   "cell_type": "code",
   "execution_count": 58,
   "id": "5db3a955",
   "metadata": {},
   "outputs": [
    {
     "name": "stdout",
     "output_type": "stream",
     "text": [
      "{'Name': 'Sansa Stark', 'Class': 'Masters'}\n"
     ]
    }
   ],
   "source": [
    "thisdict = {\n",
    "    \"Name\" : \"Sansa Stark\",\n",
    "    \"Class\" : \"Masters\",\n",
    "    \"Roll No.\" : 239018\n",
    "}\n",
    "\n",
    "thisdict.pop(\"Roll No.\")\n",
    "print(thisdict)"
   ]
  },
  {
   "cell_type": "markdown",
   "id": "00e0a197",
   "metadata": {},
   "source": [
    "# popitem(): method removes the last inserted item"
   ]
  },
  {
   "cell_type": "code",
   "execution_count": 59,
   "id": "a63be1df",
   "metadata": {},
   "outputs": [
    {
     "name": "stdout",
     "output_type": "stream",
     "text": [
      "{'Name': 'Sansa Stark', 'Class': 'Masters'}\n"
     ]
    }
   ],
   "source": [
    "thisdict = {\n",
    "    \"Name\" : \"Sansa Stark\",\n",
    "    \"Class\" : \"Masters\",\n",
    "    \"Roll No.\" : 239018\n",
    "}\n",
    "\n",
    "thisdict.popitem()\n",
    "print(thisdict)"
   ]
  },
  {
   "cell_type": "markdown",
   "id": "c02a123d",
   "metadata": {},
   "source": [
    "# del: delete dictionary"
   ]
  },
  {
   "cell_type": "code",
   "execution_count": 60,
   "id": "8493d756",
   "metadata": {},
   "outputs": [
    {
     "name": "stdout",
     "output_type": "stream",
     "text": [
      "{'Class': 'Masters', 'Roll No.': 239018}\n"
     ]
    }
   ],
   "source": [
    "thisdict = {\n",
    "    \"Name\" : \"Sansa Stark\",\n",
    "    \"Class\" : \"Masters\",\n",
    "    \"Roll No.\" : 239018\n",
    "}\n",
    "\n",
    "del thisdict[\"Name\"]\n",
    "print(thisdict)"
   ]
  },
  {
   "cell_type": "markdown",
   "id": "b06c8f80",
   "metadata": {},
   "source": [
    "# clear(): empties the dictionary"
   ]
  },
  {
   "cell_type": "code",
   "execution_count": 61,
   "id": "b2771791",
   "metadata": {},
   "outputs": [
    {
     "name": "stdout",
     "output_type": "stream",
     "text": [
      "{}\n"
     ]
    }
   ],
   "source": [
    "thisdict = {\n",
    "    \"Name\" : \"Sansa Stark\",\n",
    "    \"Class\" : \"Masters\",\n",
    "    \"Roll No.\" : 239018\n",
    "}\n",
    "\n",
    "thisdict.clear()\n",
    "print(thisdict)"
   ]
  },
  {
   "cell_type": "markdown",
   "id": "b0daa11e",
   "metadata": {},
   "source": [
    "# Loop Through a Dictionary"
   ]
  },
  {
   "cell_type": "code",
   "execution_count": 65,
   "id": "e2fb87ec",
   "metadata": {},
   "outputs": [
    {
     "name": "stdout",
     "output_type": "stream",
     "text": [
      "Name\n",
      "Class\n",
      "Roll No.\n"
     ]
    }
   ],
   "source": [
    "thisdict = {\n",
    "    \"Name\" : \"Sansa Stark\",\n",
    "    \"Class\" : \"Masters\",\n",
    "    \"Roll No.\" : 239018\n",
    "}\n",
    "\n",
    "for x in thisdict:\n",
    "    print(x)"
   ]
  },
  {
   "cell_type": "markdown",
   "id": "3c82ff88",
   "metadata": {},
   "source": [
    "# Print all values"
   ]
  },
  {
   "cell_type": "code",
   "execution_count": 68,
   "id": "7199a6ad",
   "metadata": {},
   "outputs": [
    {
     "name": "stdout",
     "output_type": "stream",
     "text": [
      "Sansa Stark\n",
      "Masters\n",
      "239018\n"
     ]
    }
   ],
   "source": [
    "thisdict = {\n",
    "    \"Name\" : \"Sansa Stark\",\n",
    "    \"Class\" : \"Masters\",\n",
    "    \"Roll No.\" : 239018\n",
    "}\n",
    "for x in thisdict:\n",
    "  print(thisdict[x])"
   ]
  },
  {
   "cell_type": "markdown",
   "id": "7e94670d",
   "metadata": {},
   "source": [
    "# You can also use the values()"
   ]
  },
  {
   "cell_type": "code",
   "execution_count": 69,
   "id": "1fcab88b",
   "metadata": {},
   "outputs": [
    {
     "name": "stdout",
     "output_type": "stream",
     "text": [
      "Sansa Stark\n",
      "Masters\n",
      "239018\n"
     ]
    }
   ],
   "source": [
    "for x in thisdict.values():\n",
    "  print(x)"
   ]
  },
  {
   "cell_type": "markdown",
   "id": "af3f43c3",
   "metadata": {},
   "source": [
    "# You can use the keys()"
   ]
  },
  {
   "cell_type": "code",
   "execution_count": 70,
   "id": "2cdda278",
   "metadata": {},
   "outputs": [
    {
     "name": "stdout",
     "output_type": "stream",
     "text": [
      "Name\n",
      "Class\n",
      "Roll No.\n"
     ]
    }
   ],
   "source": [
    "for x in thisdict.keys():\n",
    "  print(x)"
   ]
  },
  {
   "cell_type": "markdown",
   "id": "7e78397d",
   "metadata": {},
   "source": [
    "# Loop through both keys and values: use item()"
   ]
  },
  {
   "cell_type": "code",
   "execution_count": 71,
   "id": "b0775a0f",
   "metadata": {},
   "outputs": [
    {
     "name": "stdout",
     "output_type": "stream",
     "text": [
      "Name Sansa Stark\n",
      "Class Masters\n",
      "Roll No. 239018\n"
     ]
    }
   ],
   "source": [
    "for x, y in thisdict.items():\n",
    "  print(x, y)"
   ]
  },
  {
   "cell_type": "markdown",
   "id": "068b6e30",
   "metadata": {},
   "source": [
    "# Copy a Dictionary"
   ]
  },
  {
   "cell_type": "code",
   "execution_count": 73,
   "id": "c81c59ac",
   "metadata": {},
   "outputs": [
    {
     "name": "stdout",
     "output_type": "stream",
     "text": [
      "{'Name': 'Sansa Stark', 'Class': 'Masters', 'Roll No.': 239018}\n"
     ]
    }
   ],
   "source": [
    "thisdict = {\n",
    "    \"Name\" : \"Sansa Stark\",\n",
    "    \"Class\" : \"Masters\",\n",
    "    \"Roll No.\" : 239018\n",
    "}\n",
    "mydict = thisdict.copy()\n",
    "print(mydict)"
   ]
  },
  {
   "cell_type": "markdown",
   "id": "a0817eb7",
   "metadata": {},
   "source": [
    "# Another way: built-in function dict()"
   ]
  },
  {
   "cell_type": "code",
   "execution_count": 74,
   "id": "983b1439",
   "metadata": {},
   "outputs": [
    {
     "name": "stdout",
     "output_type": "stream",
     "text": [
      "{'Name': 'Sansa Stark', 'Class': 'Masters', 'Roll No.': 239018}\n"
     ]
    }
   ],
   "source": [
    "mydict = dict(thisdict)\n",
    "print(mydict)"
   ]
  },
  {
   "cell_type": "markdown",
   "id": "db506f5d",
   "metadata": {},
   "source": [
    "# Nested Dictionaries"
   ]
  },
  {
   "cell_type": "code",
   "execution_count": 76,
   "id": "a9e04e2a",
   "metadata": {},
   "outputs": [
    {
     "name": "stdout",
     "output_type": "stream",
     "text": [
      "{'child1': {'name': 'Fatima', 'year': 2004}, 'child2': {'name': 'Tooba', 'year': 2007}, 'child3': {'name': 'Amna', 'year': 2011}}\n"
     ]
    }
   ],
   "source": [
    "myfamily = {\n",
    "  \"child1\" : {\n",
    "    \"name\" : \"Fatima\",\n",
    "    \"year\" : 2004\n",
    "  },\n",
    "  \"child2\" : {\n",
    "    \"name\" : \"Tooba\",\n",
    "    \"year\" : 2007\n",
    "  },\n",
    "  \"child3\" : {\n",
    "    \"name\" : \"Amna\",\n",
    "    \"year\" : 2011\n",
    "  }\n",
    "}\n",
    "\n",
    "print(myfamily)"
   ]
  },
  {
   "cell_type": "markdown",
   "id": "352c34ca",
   "metadata": {},
   "source": [
    "# add three dictionary into one"
   ]
  },
  {
   "cell_type": "code",
   "execution_count": 82,
   "id": "86bbde37",
   "metadata": {},
   "outputs": [
    {
     "name": "stdout",
     "output_type": "stream",
     "text": [
      "{'child1': {'name': 'Fatima', 'year': 2004}, 'child2': {'name': 'Taniya', 'year': 2007}, 'child3': {'name': 'Amna', 'year': 2011}}\n"
     ]
    }
   ],
   "source": [
    "child1 = {\n",
    "    \"name\" : \"Fatima\",\n",
    "    \"year\" : 2004\n",
    "}\n",
    "child2 = {\n",
    "    \"name\" : \"Taniya\",\n",
    "    \"year\" : 2007\n",
    "}\n",
    "child3 = {\n",
    "    \"name\" : \"Amna\",\n",
    "    \"year\" : 2011\n",
    "}\n",
    "myfamily = {\n",
    "  \"child1\" : child1,\n",
    "  \"child2\" : child2,\n",
    "  \"child3\" : child3\n",
    "}\n",
    "print(myfamily)"
   ]
  },
  {
   "cell_type": "markdown",
   "id": "ea03bf67",
   "metadata": {},
   "source": [
    "# Access Items in Nested Dictionaries"
   ]
  },
  {
   "cell_type": "code",
   "execution_count": 83,
   "id": "cfd13288",
   "metadata": {},
   "outputs": [
    {
     "name": "stdout",
     "output_type": "stream",
     "text": [
      "Taniya\n"
     ]
    }
   ],
   "source": [
    "print(myfamily[\"child2\"][\"name\"])"
   ]
  },
  {
   "cell_type": "markdown",
   "id": "e977e25a",
   "metadata": {},
   "source": [
    "# Loop Through Nested Dictionaries"
   ]
  },
  {
   "cell_type": "code",
   "execution_count": 84,
   "id": "96b05b5f",
   "metadata": {},
   "outputs": [
    {
     "name": "stdout",
     "output_type": "stream",
     "text": [
      "child1\n",
      "name: Fatima\n",
      "year: 2004\n",
      "child2\n",
      "name: Taniya\n",
      "year: 2007\n",
      "child3\n",
      "name: Amna\n",
      "year: 2011\n"
     ]
    }
   ],
   "source": [
    "for x, obj in myfamily.items():\n",
    "  print(x)\n",
    "\n",
    "  for y in obj:\n",
    "    print(y + ':', obj[y])"
   ]
  },
  {
   "cell_type": "code",
   "execution_count": null,
   "id": "030bb9b4",
   "metadata": {},
   "outputs": [],
   "source": []
  }
 ],
 "metadata": {
  "kernelspec": {
   "display_name": "Python 3 (ipykernel)",
   "language": "python",
   "name": "python3"
  },
  "language_info": {
   "codemirror_mode": {
    "name": "ipython",
    "version": 3
   },
   "file_extension": ".py",
   "mimetype": "text/x-python",
   "name": "python",
   "nbconvert_exporter": "python",
   "pygments_lexer": "ipython3",
   "version": "3.10.9"
  }
 },
 "nbformat": 4,
 "nbformat_minor": 5
}
