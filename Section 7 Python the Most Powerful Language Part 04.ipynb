{
 "cells": [
  {
   "cell_type": "markdown",
   "id": "c18c1234",
   "metadata": {},
   "source": [
    "# List"
   ]
  },
  {
   "cell_type": "code",
   "execution_count": 1,
   "id": "90306f92",
   "metadata": {},
   "outputs": [
    {
     "name": "stdout",
     "output_type": "stream",
     "text": [
      "The list is: ['apple', 'mango', 'banana']\n"
     ]
    }
   ],
   "source": [
    "lst = ['apple', 'mango', 'banana']\n",
    "print(f\"The list is: {lst}\")"
   ]
  },
  {
   "cell_type": "markdown",
   "id": "df7d09a0",
   "metadata": {},
   "source": [
    "# Allow Duplicates"
   ]
  },
  {
   "cell_type": "code",
   "execution_count": 2,
   "id": "4796545f",
   "metadata": {},
   "outputs": [
    {
     "name": "stdout",
     "output_type": "stream",
     "text": [
      "The list is: ['apple', 'mango', 'banana', 'apple', 'strawberry', 'mango']\n"
     ]
    }
   ],
   "source": [
    "lst = ['apple', 'mango', 'banana', 'apple', 'strawberry', 'mango']\n",
    "print(f\"The list is: {lst}\")"
   ]
  },
  {
   "cell_type": "markdown",
   "id": "37377cb5",
   "metadata": {},
   "source": [
    "# List Length: len(list_name)"
   ]
  },
  {
   "cell_type": "code",
   "execution_count": 6,
   "id": "bc91c934",
   "metadata": {},
   "outputs": [
    {
     "name": "stdout",
     "output_type": "stream",
     "text": [
      "The length of the list is: 6\n"
     ]
    }
   ],
   "source": [
    "lst = ['apple', 'mango', 'banana', 'apple', 'strawberry', 'mango']\n",
    "print(f\"The length of the list is: {len(lst)}\")"
   ]
  },
  {
   "cell_type": "markdown",
   "id": "61e3a407",
   "metadata": {},
   "source": [
    "# List Items - Data Types"
   ]
  },
  {
   "cell_type": "code",
   "execution_count": 7,
   "id": "3c945d49",
   "metadata": {},
   "outputs": [
    {
     "name": "stdout",
     "output_type": "stream",
     "text": [
      "The List: [1, 4, 'apple', 56.9, True]\n"
     ]
    }
   ],
   "source": [
    "lst1 = [1, 4,'apple', 56.9, True]\n",
    "print(f\"The List: {lst1}\")"
   ]
  },
  {
   "cell_type": "markdown",
   "id": "685f6d86",
   "metadata": {},
   "source": [
    "# To check the type: type(list_name)"
   ]
  },
  {
   "cell_type": "code",
   "execution_count": 10,
   "id": "b89979ce",
   "metadata": {},
   "outputs": [
    {
     "name": "stdout",
     "output_type": "stream",
     "text": [
      "The type of List: <class 'list'>\n"
     ]
    }
   ],
   "source": [
    "lst = ['apple', 'mango', 'banana']\n",
    "lst_type = type(lst)\n",
    "print(f\"The type of List: {lst_type}\")"
   ]
  },
  {
   "cell_type": "markdown",
   "id": "6abc8be8",
   "metadata": {},
   "source": [
    "# List() Constructor"
   ]
  },
  {
   "cell_type": "code",
   "execution_count": 11,
   "id": "c64eecef",
   "metadata": {},
   "outputs": [
    {
     "name": "stdout",
     "output_type": "stream",
     "text": [
      "The list: ['Apple', 'Mango', 'banana']\n"
     ]
    }
   ],
   "source": [
    "this_list = list((\"Apple\", \"Mango\", \"banana\")) \n",
    "print(f\"The list: {this_list}\")"
   ]
  },
  {
   "cell_type": "markdown",
   "id": "489c536b",
   "metadata": {},
   "source": [
    "# Access Items: list_name(index)"
   ]
  },
  {
   "cell_type": "code",
   "execution_count": 15,
   "id": "f145762b",
   "metadata": {},
   "outputs": [
    {
     "name": "stdout",
     "output_type": "stream",
     "text": [
      "The 1st item: Apple\n",
      "The 2nd item: Mango\n",
      "The 3rd item: banana\n"
     ]
    }
   ],
   "source": [
    "this_list = list((\"Apple\", \"Mango\", \"banana\")) \n",
    "print(f\"The 1st item: {this_list[0]}\")\n",
    "print(f\"The 2nd item: {this_list[1]}\")\n",
    "print(f\"The 3rd item: {this_list[2]}\")"
   ]
  },
  {
   "cell_type": "markdown",
   "id": "fc331be1",
   "metadata": {},
   "source": [
    "# Negative Indexing"
   ]
  },
  {
   "cell_type": "code",
   "execution_count": 17,
   "id": "962e5919",
   "metadata": {},
   "outputs": [
    {
     "name": "stdout",
     "output_type": "stream",
     "text": [
      "The 3rd item: banana\n",
      "The 2nd item: Mango\n",
      "The 1st item: Apple\n"
     ]
    }
   ],
   "source": [
    "this_list = list((\"Apple\", \"Mango\", \"banana\")) \n",
    "print(f\"The 3rd item: {this_list[-1]}\")\n",
    "print(f\"The 2nd item: {this_list[-2]}\")\n",
    "print(f\"The 1st item: {this_list[-3]}\")"
   ]
  },
  {
   "cell_type": "markdown",
   "id": "75439cee",
   "metadata": {},
   "source": [
    "# Range of Indexes: list_name[start:end]"
   ]
  },
  {
   "cell_type": "code",
   "execution_count": 20,
   "id": "11af897b",
   "metadata": {},
   "outputs": [
    {
     "name": "stdout",
     "output_type": "stream",
     "text": [
      "['banana', 'apple', 'strawberry']\n",
      "['apple', 'mango', 'banana', 'apple', 'strawberry']\n",
      "['apple', 'strawberry', 'mango']\n"
     ]
    }
   ],
   "source": [
    "lst = ['apple', 'mango', 'banana', 'apple', 'strawberry', 'mango']\n",
    "print(lst[2:5]) \n",
    "print(lst[:5]) #from start\n",
    "print(lst[3:]) #till end"
   ]
  },
  {
   "cell_type": "markdown",
   "id": "a7930407",
   "metadata": {},
   "source": [
    "# Check if Item Exists"
   ]
  },
  {
   "cell_type": "code",
   "execution_count": 23,
   "id": "9af090fa",
   "metadata": {},
   "outputs": [
    {
     "name": "stdout",
     "output_type": "stream",
     "text": [
      "The item 'strawberry' exists.\n"
     ]
    }
   ],
   "source": [
    "lst = ['apple', 'mango', 'banana', 'apple', 'strawberry', 'mango']\n",
    "if 'strawberry' in lst:\n",
    "    print(f\"The item \\'{lst[4]}\\' exists.\")"
   ]
  },
  {
   "cell_type": "markdown",
   "id": "601b33a3",
   "metadata": {},
   "source": [
    "# Change Item Value"
   ]
  },
  {
   "cell_type": "code",
   "execution_count": 24,
   "id": "acf5c3bc",
   "metadata": {},
   "outputs": [
    {
     "name": "stdout",
     "output_type": "stream",
     "text": [
      "The Chnaged list: ['apple', 'mango', 'banana', 56, 'strawberry', 'mango']\n"
     ]
    }
   ],
   "source": [
    "lst = ['apple', 'mango', 'banana', 'apple', 'strawberry', 'mango']\n",
    "lst[3] = 56\n",
    "print(f\"The Chnaged list: {lst}\")"
   ]
  },
  {
   "cell_type": "markdown",
   "id": "0be701cd",
   "metadata": {},
   "source": [
    "# Change a Range of Item Values"
   ]
  },
  {
   "cell_type": "code",
   "execution_count": 28,
   "id": "3293ca80",
   "metadata": {},
   "outputs": [
    {
     "name": "stdout",
     "output_type": "stream",
     "text": [
      "The List ['Ramsay', 23, 'Thrones', 'Net', 2024, 3.85, True]\n",
      "The new List ['Ramsay', 23, 'Thrones', 89, 67, 'Rob', 3.85, True]\n"
     ]
    }
   ],
   "source": [
    "lst = ['Ramsay', 23 , 'Thrones', 'Net', 2024, 3.85, True]\n",
    "print(f\"The List {lst}\")\n",
    "lst[3:5] = [89,67,'Rob']\n",
    "print(f\"The new List {lst}\")"
   ]
  },
  {
   "cell_type": "markdown",
   "id": "36ffc9fa",
   "metadata": {},
   "source": [
    "# Insert Items: list_name.insert(index, value)"
   ]
  },
  {
   "cell_type": "code",
   "execution_count": 2,
   "id": "685a5117",
   "metadata": {},
   "outputs": [
    {
     "name": "stdout",
     "output_type": "stream",
     "text": [
      "['apple', 'mango', 'orange', 'banana']\n"
     ]
    }
   ],
   "source": [
    "list1=['apple', 'mango', 'banana']\n",
    "list1.insert(2,'orange')\n",
    "print(list1)"
   ]
  },
  {
   "cell_type": "markdown",
   "id": "31d74649",
   "metadata": {},
   "source": [
    "# Append/add Items: list_name.append(value)"
   ]
  },
  {
   "cell_type": "code",
   "execution_count": 3,
   "id": "854b3f36",
   "metadata": {},
   "outputs": [
    {
     "name": "stdout",
     "output_type": "stream",
     "text": [
      "['apple', 'mango', 'banana', 'orange']\n"
     ]
    }
   ],
   "source": [
    "list1=['apple', 'mango', 'banana']\n",
    "list1.append('orange')\n",
    "print(list1)"
   ]
  },
  {
   "cell_type": "markdown",
   "id": "7ace22a5",
   "metadata": {},
   "source": [
    "# Extend List: list1_name.extend(list2_name)"
   ]
  },
  {
   "cell_type": "code",
   "execution_count": 4,
   "id": "41c27d93",
   "metadata": {},
   "outputs": [
    {
     "name": "stdout",
     "output_type": "stream",
     "text": [
      "['apple', 'mango', 'banana', 'orange', 'pineapple', 'grapes']\n"
     ]
    }
   ],
   "source": [
    "list1=['apple', 'mango', 'banana']\n",
    "list2=['orange', 'pineapple', 'grapes']\n",
    "list1.extend(list2)\n",
    "print(list1)"
   ]
  },
  {
   "cell_type": "markdown",
   "id": "97971934",
   "metadata": {},
   "source": [
    "# Add Any Iterable: The extend() method does not have to append lists, you can add any iterable object (tuples, sets, dictionaries etc.)."
   ]
  },
  {
   "cell_type": "code",
   "execution_count": 15,
   "id": "119b8a0d",
   "metadata": {},
   "outputs": [
    {
     "name": "stdout",
     "output_type": "stream",
     "text": [
      "['apple', 'mango', 'banana', 'orange', 'melon']\n"
     ]
    }
   ],
   "source": [
    "list1=['apple', 'mango', 'banana']\n",
    "tup=(\"orange\", \"melon\")\n",
    "list1.extend(tup)\n",
    "print(list1)"
   ]
  },
  {
   "cell_type": "markdown",
   "id": "7b25e042",
   "metadata": {},
   "source": [
    "# Remove Specified Item: list_name.remove(value)"
   ]
  },
  {
   "cell_type": "code",
   "execution_count": 16,
   "id": "c4d21de5",
   "metadata": {},
   "outputs": [
    {
     "name": "stdout",
     "output_type": "stream",
     "text": [
      "['mango', 'banana']\n"
     ]
    }
   ],
   "source": [
    "list1=['apple', 'mango', 'banana']\n",
    "list1.remove('apple')\n",
    "print(list1)"
   ]
  },
  {
   "cell_type": "markdown",
   "id": "6f582769",
   "metadata": {},
   "source": [
    "# If there are more than one item with the specified value, the remove() method removes the first occurrence:"
   ]
  },
  {
   "cell_type": "code",
   "execution_count": 17,
   "id": "11d44ffe",
   "metadata": {},
   "outputs": [
    {
     "name": "stdout",
     "output_type": "stream",
     "text": [
      "['mango', 'banana', 'apple']\n"
     ]
    }
   ],
   "source": [
    "list1=['apple', 'mango', 'banana','apple']\n",
    "list1.remove('apple')\n",
    "print(list1)"
   ]
  },
  {
   "cell_type": "markdown",
   "id": "4c22d975",
   "metadata": {},
   "source": [
    "# Remove Specified Index: list_name.pop(index)"
   ]
  },
  {
   "cell_type": "code",
   "execution_count": 18,
   "id": "a85924f8",
   "metadata": {},
   "outputs": [
    {
     "name": "stdout",
     "output_type": "stream",
     "text": [
      "['apple', 'mango', 'apple']\n"
     ]
    }
   ],
   "source": [
    "list1=['apple', 'mango', 'banana','apple']\n",
    "list1.pop(2)\n",
    "print(list1)"
   ]
  },
  {
   "cell_type": "markdown",
   "id": "598d2ab0",
   "metadata": {},
   "source": [
    "# If you do not specify the index, the pop() method removes the last item."
   ]
  },
  {
   "cell_type": "code",
   "execution_count": 19,
   "id": "088ea736",
   "metadata": {},
   "outputs": [
    {
     "name": "stdout",
     "output_type": "stream",
     "text": [
      "['apple', 'mango', 'banana']\n"
     ]
    }
   ],
   "source": [
    "list1=['apple', 'mango', 'banana','apple']\n",
    "list1.pop()\n",
    "print(list1)"
   ]
  },
  {
   "cell_type": "markdown",
   "id": "14671d59",
   "metadata": {},
   "source": [
    "# del list_name[index] \n",
    "# The del keyword also removes the specified index:"
   ]
  },
  {
   "cell_type": "code",
   "execution_count": 20,
   "id": "93fcf7de",
   "metadata": {},
   "outputs": [
    {
     "name": "stdout",
     "output_type": "stream",
     "text": [
      "['apple', 'banana', 'apple']\n"
     ]
    }
   ],
   "source": [
    "list1=['apple', 'mango', 'banana','apple']\n",
    "del list1[1]\n",
    "print(list1)"
   ]
  },
  {
   "cell_type": "markdown",
   "id": "bbfc3420",
   "metadata": {},
   "source": [
    "# The del keyword can also delete the list completely."
   ]
  },
  {
   "cell_type": "code",
   "execution_count": 22,
   "id": "fff5c5be",
   "metadata": {},
   "outputs": [],
   "source": [
    "list1=['apple', 'mango', 'banana','apple']\n",
    "del list1\n"
   ]
  },
  {
   "cell_type": "markdown",
   "id": "7ead3503",
   "metadata": {},
   "source": [
    "# Clear the List: list_name.clear()"
   ]
  },
  {
   "cell_type": "code",
   "execution_count": 23,
   "id": "54c9dfc8",
   "metadata": {},
   "outputs": [
    {
     "name": "stdout",
     "output_type": "stream",
     "text": [
      "[]\n"
     ]
    }
   ],
   "source": [
    "list1=['apple', 'mango', 'banana','apple']\n",
    "list1.clear()\n",
    "print(list1)"
   ]
  },
  {
   "cell_type": "markdown",
   "id": "f83df686",
   "metadata": {},
   "source": [
    "# List and loops"
   ]
  },
  {
   "cell_type": "markdown",
   "id": "6bd39519",
   "metadata": {},
   "source": [
    "# using for loop"
   ]
  },
  {
   "cell_type": "code",
   "execution_count": 25,
   "id": "f7e5e62f",
   "metadata": {},
   "outputs": [
    {
     "name": "stdout",
     "output_type": "stream",
     "text": [
      "apple\n",
      "mango\n",
      "banana\n",
      "orange\n",
      "kiwi\n",
      "watermelon\n"
     ]
    }
   ],
   "source": [
    "list1=['apple', 'mango', 'banana','orange', 'kiwi', 'watermelon']\n",
    "for i in list1:\n",
    "    print(i)"
   ]
  },
  {
   "cell_type": "markdown",
   "id": "0623e613",
   "metadata": {},
   "source": [
    "# Loop Through the Index Numbers: using range and len "
   ]
  },
  {
   "cell_type": "code",
   "execution_count": 26,
   "id": "4d10d8d0",
   "metadata": {},
   "outputs": [
    {
     "name": "stdout",
     "output_type": "stream",
     "text": [
      "0\n",
      "1\n",
      "2\n",
      "3\n",
      "4\n",
      "5\n"
     ]
    }
   ],
   "source": [
    "list1=['apple', 'mango', 'banana','orange', 'kiwi', 'watermelon']\n",
    "for i in range(len(list1)):\n",
    "    print(i)"
   ]
  },
  {
   "cell_type": "markdown",
   "id": "d2f1ee4a",
   "metadata": {},
   "source": [
    "# using while loop"
   ]
  },
  {
   "cell_type": "code",
   "execution_count": 28,
   "id": "da536d63",
   "metadata": {},
   "outputs": [
    {
     "name": "stdout",
     "output_type": "stream",
     "text": [
      "apple\n",
      "mango\n",
      "banana\n",
      "orange\n",
      "kiwi\n",
      "watermelon\n"
     ]
    }
   ],
   "source": [
    "list1=['apple', 'mango', 'banana','orange', 'kiwi', 'watermelon']\n",
    "i=0\n",
    "while i < len(list1):\n",
    "    print(list1[i])\n",
    "    i+=1\n",
    "    "
   ]
  },
  {
   "cell_type": "markdown",
   "id": "dea5eb33",
   "metadata": {},
   "source": [
    "# Looping Using List Comprehension: [print(i) for i in list_name]"
   ]
  },
  {
   "cell_type": "code",
   "execution_count": 30,
   "id": "7eb4ce61",
   "metadata": {},
   "outputs": [
    {
     "name": "stdout",
     "output_type": "stream",
     "text": [
      "apple\n",
      "mango\n",
      "banana\n",
      "orange\n",
      "kiwi\n",
      "watermelon\n"
     ]
    },
    {
     "data": {
      "text/plain": [
       "[None, None, None, None, None, None]"
      ]
     },
     "execution_count": 30,
     "metadata": {},
     "output_type": "execute_result"
    }
   ],
   "source": [
    "list1=['apple', 'mango', 'banana','orange', 'kiwi', 'watermelon']\n",
    "[print(i) for i in list1]"
   ]
  },
  {
   "cell_type": "markdown",
   "id": "7241f145",
   "metadata": {},
   "source": [
    "# Sort List Alphanumerically: list_name.sort()"
   ]
  },
  {
   "cell_type": "code",
   "execution_count": 32,
   "id": "9080ba98",
   "metadata": {},
   "outputs": [
    {
     "name": "stdout",
     "output_type": "stream",
     "text": [
      "['apple', 'banana', 'kiwi', 'mango', 'orange', 'watermelon']\n"
     ]
    }
   ],
   "source": [
    "list1=['apple', 'mango', 'banana','orange', 'kiwi', 'watermelon']\n",
    "list1.sort()\n",
    "print(list1)"
   ]
  },
  {
   "cell_type": "markdown",
   "id": "12cb7189",
   "metadata": {},
   "source": [
    "# Sort the list numerically"
   ]
  },
  {
   "cell_type": "code",
   "execution_count": 33,
   "id": "2b946d20",
   "metadata": {},
   "outputs": [
    {
     "name": "stdout",
     "output_type": "stream",
     "text": [
      "[0, 8, 10, 30, 89, 189, 782]\n"
     ]
    }
   ],
   "source": [
    "list1=[10, 89,30,782,8,0,189]\n",
    "list1.sort()\n",
    "print(list1)"
   ]
  },
  {
   "cell_type": "markdown",
   "id": "9863f483",
   "metadata": {},
   "source": [
    "# Sort Descending: list_name.sort(reverse=True)"
   ]
  },
  {
   "cell_type": "code",
   "execution_count": 34,
   "id": "78316a62",
   "metadata": {},
   "outputs": [
    {
     "name": "stdout",
     "output_type": "stream",
     "text": [
      "['watermelon', 'orange', 'mango', 'kiwi', 'banana', 'apple']\n"
     ]
    }
   ],
   "source": [
    "list1=['apple', 'mango', 'banana','orange', 'kiwi', 'watermelon']\n",
    "list1.sort(reverse=True)\n",
    "print(list1)"
   ]
  },
  {
   "cell_type": "markdown",
   "id": "d2a15449",
   "metadata": {},
   "source": [
    "# Case Insensitive Sort: sort capital letters before small"
   ]
  },
  {
   "cell_type": "code",
   "execution_count": 36,
   "id": "8800c09f",
   "metadata": {},
   "outputs": [
    {
     "name": "stdout",
     "output_type": "stream",
     "text": [
      "['Banana', 'Kiwi', 'Mango', 'apple', 'orange', 'watermelon']\n"
     ]
    }
   ],
   "source": [
    "list1=['apple', 'Mango', 'Banana','orange', 'Kiwi', 'watermelon']\n",
    "list1.sort()\n",
    "print(list1)"
   ]
  },
  {
   "cell_type": "code",
   "execution_count": 39,
   "id": "d8c61b52",
   "metadata": {},
   "outputs": [
    {
     "name": "stdout",
     "output_type": "stream",
     "text": [
      "['apple', 'Banana', 'Kiwi', 'Mango', 'orange', 'watermelon']\n"
     ]
    }
   ],
   "source": [
    "list1=['apple', 'Mango', 'Banana','orange', 'Kiwi', 'watermelon']\n",
    "list1.sort(key=str.lower)\n",
    "print(list1)"
   ]
  },
  {
   "cell_type": "markdown",
   "id": "4261d3b4",
   "metadata": {},
   "source": [
    "# Copy a List: list_name.copy()"
   ]
  },
  {
   "cell_type": "code",
   "execution_count": 40,
   "id": "ad11b7b7",
   "metadata": {},
   "outputs": [
    {
     "name": "stdout",
     "output_type": "stream",
     "text": [
      "['apple', 'Mango', 'Banana', 'orange', 'Kiwi', 'watermelon']\n"
     ]
    }
   ],
   "source": [
    "list1=['apple', 'Mango', 'Banana','orange', 'Kiwi', 'watermelon']\n",
    "new_list = list1.copy()\n",
    "print(new_list)"
   ]
  },
  {
   "cell_type": "markdown",
   "id": "5f8951ac",
   "metadata": {},
   "source": [
    "# Another way to make a copy: list(list_name)"
   ]
  },
  {
   "cell_type": "code",
   "execution_count": 41,
   "id": "c74c3c38",
   "metadata": {},
   "outputs": [
    {
     "name": "stdout",
     "output_type": "stream",
     "text": [
      "['apple', 'Mango', 'Banana', 'orange', 'Kiwi', 'watermelon']\n"
     ]
    }
   ],
   "source": [
    "list1=['apple', 'Mango', 'Banana','orange', 'Kiwi', 'watermelon']\n",
    "new_list = list(list1)\n",
    "print(new_list)"
   ]
  },
  {
   "cell_type": "markdown",
   "id": "b5ce51cc",
   "metadata": {},
   "source": [
    "# Use the slice Operator: list_name[start:end]"
   ]
  },
  {
   "cell_type": "code",
   "execution_count": 42,
   "id": "e82c3690",
   "metadata": {},
   "outputs": [
    {
     "name": "stdout",
     "output_type": "stream",
     "text": [
      "['apple', 'Mango', 'Banana', 'orange', 'Kiwi', 'watermelon']\n"
     ]
    }
   ],
   "source": [
    "list1=['apple', 'Mango', 'Banana','orange', 'Kiwi', 'watermelon']\n",
    "new_list = list1[:]\n",
    "print(new_list)"
   ]
  },
  {
   "cell_type": "code",
   "execution_count": 43,
   "id": "d179baf9",
   "metadata": {},
   "outputs": [
    {
     "name": "stdout",
     "output_type": "stream",
     "text": [
      "['Banana', 'orange', 'Kiwi', 'watermelon']\n"
     ]
    }
   ],
   "source": [
    "list1=['apple', 'Mango', 'Banana','orange', 'Kiwi', 'watermelon']\n",
    "new_list = list1[2:]\n",
    "print(new_list)"
   ]
  },
  {
   "cell_type": "code",
   "execution_count": 44,
   "id": "9b723b12",
   "metadata": {},
   "outputs": [
    {
     "name": "stdout",
     "output_type": "stream",
     "text": [
      "['Mango', 'Banana', 'orange']\n"
     ]
    }
   ],
   "source": [
    "list1=['apple', 'Mango', 'Banana','orange', 'Kiwi', 'watermelon']\n",
    "new_list = list1[1:4]\n",
    "print(new_list)"
   ]
  },
  {
   "cell_type": "markdown",
   "id": "dc178052",
   "metadata": {},
   "source": [
    "# Join Two Lists: list1_name + list2_name"
   ]
  },
  {
   "cell_type": "code",
   "execution_count": 45,
   "id": "3383eeba",
   "metadata": {},
   "outputs": [
    {
     "name": "stdout",
     "output_type": "stream",
     "text": [
      "['apple', 'Mango', 'Banana', 'orange', 'Kiwi', 'watermelon', 10, 89, 30, 782, 8, 0, 189]\n"
     ]
    }
   ],
   "source": [
    "list1=['apple', 'Mango', 'Banana','orange', 'Kiwi', 'watermelon']\n",
    "list2=[10, 89,30,782,8,0,189]\n",
    "new_list = list1 + list2\n",
    "print(new_list)"
   ]
  },
  {
   "cell_type": "markdown",
   "id": "c363100e",
   "metadata": {},
   "source": [
    "# another way: list1_name.append(list2_items)"
   ]
  },
  {
   "cell_type": "code",
   "execution_count": 100,
   "id": "d7d62c7a",
   "metadata": {},
   "outputs": [
    {
     "name": "stdout",
     "output_type": "stream",
     "text": [
      "['apple', 'Mango', 'Banana', 'orange', 'Kiwi', 'watermelon', 10, 89, 30, 782, 8, 0, 189]\n"
     ]
    }
   ],
   "source": [
    "list1=['apple', 'Mango', 'Banana','orange', 'Kiwi', 'watermelon']\n",
    "list2=[10, 89,30,782,8,0,189]\n",
    "for x in list2:\n",
    "    list1.append(x)\n",
    "print(list1)"
   ]
  },
  {
   "cell_type": "markdown",
   "id": "cf940e9e",
   "metadata": {},
   "source": [
    "# another way: list1_name.extend(list2_name)"
   ]
  },
  {
   "cell_type": "code",
   "execution_count": 49,
   "id": "889ced91",
   "metadata": {},
   "outputs": [
    {
     "name": "stdout",
     "output_type": "stream",
     "text": [
      "['apple', 'Mango', 'Banana', 'orange', 'Kiwi', 'watermelon', 10, 89, 30, 782, 8, 0, 189]\n"
     ]
    }
   ],
   "source": [
    "list1=['apple', 'Mango', 'Banana','orange', 'Kiwi', 'watermelon']\n",
    "list2=[10, 89,30,782,8,0,189]\n",
    "list1.extend(list2)\n",
    "print(list1)"
   ]
  },
  {
   "cell_type": "markdown",
   "id": "f466f727",
   "metadata": {},
   "source": [
    "# Python Tuples"
   ]
  },
  {
   "cell_type": "code",
   "execution_count": 51,
   "id": "49e39ef4",
   "metadata": {},
   "outputs": [
    {
     "name": "stdout",
     "output_type": "stream",
     "text": [
      "('Islamabad', 'Lahore', 'Sahiwal')\n"
     ]
    }
   ],
   "source": [
    "tuple1 = (\"Islamabad\", \"Lahore\", \"Sahiwal\")\n",
    "print(tuple1)"
   ]
  },
  {
   "cell_type": "markdown",
   "id": "af772b35",
   "metadata": {},
   "source": [
    "# Allow Duplicates"
   ]
  },
  {
   "cell_type": "code",
   "execution_count": 52,
   "id": "5804c433",
   "metadata": {},
   "outputs": [
    {
     "name": "stdout",
     "output_type": "stream",
     "text": [
      "('Islamabad', 'Lahore', 'Sahiwal', 'Saiwal', 'Lahore')\n"
     ]
    }
   ],
   "source": [
    "tuple1 = (\"Islamabad\", \"Lahore\", \"Sahiwal\", \"Saiwal\", \"Lahore\")\n",
    "print(tuple1)"
   ]
  },
  {
   "cell_type": "markdown",
   "id": "41f24230",
   "metadata": {},
   "source": [
    "# Tuple Length: len(tuple_name)"
   ]
  },
  {
   "cell_type": "code",
   "execution_count": 53,
   "id": "745f3f6c",
   "metadata": {},
   "outputs": [
    {
     "name": "stdout",
     "output_type": "stream",
     "text": [
      "3\n"
     ]
    }
   ],
   "source": [
    "tuple1 = (\"Islamabad\", \"Lahore\", \"Sahiwal\")\n",
    "print(len(tuple1))"
   ]
  },
  {
   "cell_type": "markdown",
   "id": "63832e8e",
   "metadata": {},
   "source": [
    "# Create Tuple With One Item"
   ]
  },
  {
   "cell_type": "code",
   "execution_count": 54,
   "id": "00a30dde",
   "metadata": {},
   "outputs": [
    {
     "name": "stdout",
     "output_type": "stream",
     "text": [
      "('Islamabad',)\n"
     ]
    }
   ],
   "source": [
    "tuple1 = (\"Islamabad\", )\n",
    "print(tuple1)"
   ]
  },
  {
   "cell_type": "markdown",
   "id": "de5ee9aa",
   "metadata": {},
   "source": [
    "# not a tuple"
   ]
  },
  {
   "cell_type": "code",
   "execution_count": 56,
   "id": "0a36ffe9",
   "metadata": {},
   "outputs": [
    {
     "name": "stdout",
     "output_type": "stream",
     "text": [
      "Islamabad\n",
      "<class 'str'>\n"
     ]
    }
   ],
   "source": [
    "tuple1 = (\"Islamabad\")\n",
    "print(tuple1)\n",
    "print(type(tuple1))"
   ]
  },
  {
   "cell_type": "markdown",
   "id": "26094b36",
   "metadata": {},
   "source": [
    "# Tuple Items - Data Types"
   ]
  },
  {
   "cell_type": "code",
   "execution_count": 59,
   "id": "8cfce242",
   "metadata": {},
   "outputs": [
    {
     "name": "stdout",
     "output_type": "stream",
     "text": [
      "(1, 2, 3, 4, 5) \n",
      "(True, False, True) \n",
      "('Name', 'Age', 'Class')\n"
     ]
    }
   ],
   "source": [
    "tuple1 = (1,2,3,4,5)\n",
    "tuple2 = (True, False, True)\n",
    "tuple3 = (\"Name\", \"Age\", \"Class\")\n",
    "print(f\"{tuple1} \\n{tuple2} \\n{tuple3}\")"
   ]
  },
  {
   "cell_type": "markdown",
   "id": "83614cc5",
   "metadata": {},
   "source": [
    "# A tuple can contain different data types:"
   ]
  },
  {
   "cell_type": "code",
   "execution_count": 60,
   "id": "d2482e42",
   "metadata": {},
   "outputs": [
    {
     "name": "stdout",
     "output_type": "stream",
     "text": [
      "('Name', 1, True)\n"
     ]
    }
   ],
   "source": [
    "tuple1 = (\"Name\", 1, True)\n",
    "print(tuple1)"
   ]
  },
  {
   "cell_type": "markdown",
   "id": "ae935eb1",
   "metadata": {},
   "source": [
    "# to check the type: type(tuple_name)"
   ]
  },
  {
   "cell_type": "code",
   "execution_count": 61,
   "id": "c5f88490",
   "metadata": {},
   "outputs": [
    {
     "name": "stdout",
     "output_type": "stream",
     "text": [
      "<class 'tuple'>\n"
     ]
    }
   ],
   "source": [
    "tuple1 = (\"Name\", 1, True)\n",
    "print(type(tuple1))"
   ]
  },
  {
   "cell_type": "markdown",
   "id": "3500a9dc",
   "metadata": {},
   "source": [
    "# The tuple() Constructor: tuple_name = tuple((items))"
   ]
  },
  {
   "cell_type": "code",
   "execution_count": 62,
   "id": "20039103",
   "metadata": {},
   "outputs": [
    {
     "name": "stdout",
     "output_type": "stream",
     "text": [
      "(1, 2, 3, 'name', 'ginger', True)\n"
     ]
    }
   ],
   "source": [
    "tuple1 = tuple((1,2,3, 'name', 'ginger', True))\n",
    "print(tuple1)"
   ]
  },
  {
   "cell_type": "markdown",
   "id": "050f909c",
   "metadata": {},
   "source": [
    "# Access Tuple Items: tuple_name[index]"
   ]
  },
  {
   "cell_type": "code",
   "execution_count": 63,
   "id": "19b40626",
   "metadata": {},
   "outputs": [
    {
     "name": "stdout",
     "output_type": "stream",
     "text": [
      "name\n"
     ]
    }
   ],
   "source": [
    "tuple1 = tuple((1,2,3, 'name', 'ginger', True))\n",
    "print(tuple1[3])"
   ]
  },
  {
   "cell_type": "markdown",
   "id": "a4be5953",
   "metadata": {},
   "source": [
    "# Negative Indexing"
   ]
  },
  {
   "cell_type": "code",
   "execution_count": 64,
   "id": "b3b4cae7",
   "metadata": {},
   "outputs": [
    {
     "name": "stdout",
     "output_type": "stream",
     "text": [
      "watermelon\n"
     ]
    }
   ],
   "source": [
    "tuple1=('apple', 'Mango', 'Banana','orange', 'Kiwi', 'watermelon')\n",
    "print(tuple1[-1])"
   ]
  },
  {
   "cell_type": "markdown",
   "id": "66318a70",
   "metadata": {},
   "source": [
    "# Range of Indexes: tuple_name[start:end]"
   ]
  },
  {
   "cell_type": "code",
   "execution_count": 65,
   "id": "a5c2cb23",
   "metadata": {},
   "outputs": [
    {
     "name": "stdout",
     "output_type": "stream",
     "text": [
      "('Banana', 'orange', 'Kiwi', 'watermelon')\n"
     ]
    }
   ],
   "source": [
    "tuple1=('apple', 'Mango', 'Banana','orange', 'Kiwi', 'watermelon')\n",
    "print(tuple1[2:6])"
   ]
  },
  {
   "cell_type": "markdown",
   "id": "e758bb00",
   "metadata": {},
   "source": [
    "# leaving out the start value"
   ]
  },
  {
   "cell_type": "code",
   "execution_count": 67,
   "id": "c5919f06",
   "metadata": {},
   "outputs": [
    {
     "name": "stdout",
     "output_type": "stream",
     "text": [
      "('apple', 'Mango', 'Banana', 'orange')\n"
     ]
    }
   ],
   "source": [
    "tuple1=('apple', 'Mango', 'Banana','orange', 'Kiwi', 'watermelon')\n",
    "print(tuple1[:4])"
   ]
  },
  {
   "cell_type": "markdown",
   "id": "a64438e7",
   "metadata": {},
   "source": [
    "# leaving out the end value"
   ]
  },
  {
   "cell_type": "code",
   "execution_count": 68,
   "id": "f9e90f47",
   "metadata": {},
   "outputs": [
    {
     "name": "stdout",
     "output_type": "stream",
     "text": [
      "('orange', 'Kiwi', 'watermelon')\n"
     ]
    }
   ],
   "source": [
    "tuple1=('apple', 'Mango', 'Banana','orange', 'Kiwi', 'watermelon')\n",
    "print(tuple1[3:])"
   ]
  },
  {
   "cell_type": "markdown",
   "id": "691700d9",
   "metadata": {},
   "source": [
    "# Range of Negative Indexes"
   ]
  },
  {
   "cell_type": "code",
   "execution_count": 69,
   "id": "06dea89b",
   "metadata": {},
   "outputs": [
    {
     "name": "stdout",
     "output_type": "stream",
     "text": [
      "('orange', 'Kiwi')\n"
     ]
    }
   ],
   "source": [
    "tuple1=('apple', 'Mango', 'Banana','orange', 'Kiwi', 'watermelon')\n",
    "print(tuple1[-3:-1])"
   ]
  },
  {
   "cell_type": "markdown",
   "id": "6f05c2ae",
   "metadata": {},
   "source": [
    "# Check if Item Exists: using if-else condition statement"
   ]
  },
  {
   "cell_type": "code",
   "execution_count": 70,
   "id": "e33291a9",
   "metadata": {},
   "outputs": [
    {
     "name": "stdout",
     "output_type": "stream",
     "text": [
      "Yes! Tuple has Mango.\n"
     ]
    }
   ],
   "source": [
    "tuple1=('apple', 'Mango', 'Banana','orange', 'Kiwi', 'watermelon')\n",
    "if \"Mango\" in tuple1:\n",
    "    print(\"Yes! Tuple has Mango.\")\n",
    "else:\n",
    "    print(\"No! Tuple has no such item.\")"
   ]
  },
  {
   "cell_type": "markdown",
   "id": "f0080986",
   "metadata": {},
   "source": [
    "# Change Tuple Values: tuples are unchangeable/immutable"
   ]
  },
  {
   "cell_type": "code",
   "execution_count": 76,
   "id": "d25f0cc7",
   "metadata": {},
   "outputs": [
    {
     "name": "stdout",
     "output_type": "stream",
     "text": [
      "this is list: ['apple', 'Mango', 'Banana', 'orange', 'Kiwi', 'watermelon', 'melon']\n",
      "this is tuple: ('apple', 'Mango', 'Banana', 'orange', 'Kiwi', 'watermelon', 'melon')\n"
     ]
    }
   ],
   "source": [
    "#othet way\n",
    "#change list into tuple after updation in list\n",
    "\n",
    "list1 = ['apple', 'Mango', 'Banana','orange', 'Kiwi', 'watermelon']\n",
    "list1.append(\"melon\")\n",
    "print(f\"this is list: {list1}\")\n",
    "tuple1 = tuple(list1)\n",
    "print(f\"this is tuple: {tuple1}\")"
   ]
  },
  {
   "cell_type": "code",
   "execution_count": 78,
   "id": "29906fd9",
   "metadata": {},
   "outputs": [
    {
     "name": "stdout",
     "output_type": "stream",
     "text": [
      "('apple', 'Mango', 'Banana', 'orange', 'Kiwi', 'watermelon', 'strawberry')\n"
     ]
    }
   ],
   "source": [
    "#Add tuple to a tuple\n",
    "tuple1=('apple', 'Mango', 'Banana','orange', 'Kiwi', 'watermelon')\n",
    "y = (\"strawberry\", )\n",
    "tuple1 += y\n",
    "print(tuple1)"
   ]
  },
  {
   "cell_type": "markdown",
   "id": "7bc2ca99",
   "metadata": {},
   "source": [
    "# Remove Items: tuple_name.remove(item)"
   ]
  },
  {
   "cell_type": "code",
   "execution_count": 83,
   "id": "6e13391c",
   "metadata": {},
   "outputs": [
    {
     "name": "stdout",
     "output_type": "stream",
     "text": [
      "('apple', 'Mango', 'orange', 'Kiwi', 'watermelon')\n"
     ]
    }
   ],
   "source": [
    "tuple1=('apple', 'Mango', 'Banana','orange', 'Kiwi', 'watermelon')\n",
    "y = list(tuple1)\n",
    "y.remove(\"Banana\")\n",
    "tuple1 = tuple(y)\n",
    "print(tuple1)"
   ]
  },
  {
   "cell_type": "markdown",
   "id": "294936c9",
   "metadata": {},
   "source": [
    "# delete the tuple completely: del tuple_name"
   ]
  },
  {
   "cell_type": "code",
   "execution_count": 84,
   "id": "f038f5d9",
   "metadata": {},
   "outputs": [
    {
     "ename": "NameError",
     "evalue": "name 'tuple1' is not defined",
     "output_type": "error",
     "traceback": [
      "\u001b[1;31m---------------------------------------------------------------------------\u001b[0m",
      "\u001b[1;31mNameError\u001b[0m                                 Traceback (most recent call last)",
      "Cell \u001b[1;32mIn[84], line 3\u001b[0m\n\u001b[0;32m      1\u001b[0m tuple1\u001b[38;5;241m=\u001b[39m(\u001b[38;5;124m'\u001b[39m\u001b[38;5;124mapple\u001b[39m\u001b[38;5;124m'\u001b[39m, \u001b[38;5;124m'\u001b[39m\u001b[38;5;124mMango\u001b[39m\u001b[38;5;124m'\u001b[39m, \u001b[38;5;124m'\u001b[39m\u001b[38;5;124mBanana\u001b[39m\u001b[38;5;124m'\u001b[39m,\u001b[38;5;124m'\u001b[39m\u001b[38;5;124morange\u001b[39m\u001b[38;5;124m'\u001b[39m, \u001b[38;5;124m'\u001b[39m\u001b[38;5;124mKiwi\u001b[39m\u001b[38;5;124m'\u001b[39m, \u001b[38;5;124m'\u001b[39m\u001b[38;5;124mwatermelon\u001b[39m\u001b[38;5;124m'\u001b[39m)\n\u001b[0;32m      2\u001b[0m \u001b[38;5;28;01mdel\u001b[39;00m tuple1\n\u001b[1;32m----> 3\u001b[0m \u001b[38;5;28mprint\u001b[39m(\u001b[43mtuple1\u001b[49m)\n",
      "\u001b[1;31mNameError\u001b[0m: name 'tuple1' is not defined"
     ]
    }
   ],
   "source": [
    "tuple1=('apple', 'Mango', 'Banana','orange', 'Kiwi', 'watermelon')\n",
    "del tuple1\n",
    "print(tuple1)  #this will raise an error because the tuple no longer exists"
   ]
  },
  {
   "cell_type": "markdown",
   "id": "40ca3fee",
   "metadata": {},
   "source": [
    "# Unpacking a Tuple: (item1, item2, ......, itemn) = tuple_name"
   ]
  },
  {
   "cell_type": "code",
   "execution_count": 87,
   "id": "82e63eda",
   "metadata": {},
   "outputs": [
    {
     "name": "stdout",
     "output_type": "stream",
     "text": [
      "apple\n",
      "mango\n",
      "strawberry\n"
     ]
    }
   ],
   "source": [
    "fruits = (\"apple\", \"mango\", \"strawberry\") \n",
    "(red, yellow, pink) =fruits\n",
    "print(red)\n",
    "print(yellow)\n",
    "print(pink)"
   ]
  },
  {
   "cell_type": "markdown",
   "id": "c70c901a",
   "metadata": {},
   "source": [
    "# Using Asterisk*: (item1, item2, *item3) = tuple_name"
   ]
  },
  {
   "cell_type": "code",
   "execution_count": 88,
   "id": "212c3c9f",
   "metadata": {},
   "outputs": [
    {
     "name": "stdout",
     "output_type": "stream",
     "text": [
      "apple\n",
      "mango\n",
      "['strawberry', 'melon', 'kiwi', 'banana', 'pineapple', 'date']\n"
     ]
    }
   ],
   "source": [
    "fruits = (\"apple\", \"mango\", \"strawberry\", \"melon\", \"kiwi\", \"banana\", \"pineapple\", \"date\") \n",
    "(red, yellow, *pink) =fruits\n",
    "print(red)\n",
    "print(yellow)\n",
    "print(pink)"
   ]
  },
  {
   "cell_type": "code",
   "execution_count": 89,
   "id": "2dcd753f",
   "metadata": {},
   "outputs": [
    {
     "name": "stdout",
     "output_type": "stream",
     "text": [
      "apple\n",
      "['mango', 'strawberry', 'melon', 'kiwi', 'banana', 'pineapple']\n",
      "date\n"
     ]
    }
   ],
   "source": [
    "fruits = (\"apple\", \"mango\", \"strawberry\", \"melon\", \"kiwi\", \"banana\", \"pineapple\", \"date\") \n",
    "(red, *yellow, pink) =fruits\n",
    "print(red)\n",
    "print(yellow)\n",
    "print(pink)"
   ]
  },
  {
   "cell_type": "markdown",
   "id": "0faf1560",
   "metadata": {},
   "source": [
    "# Loop Tuples"
   ]
  },
  {
   "cell_type": "markdown",
   "id": "b2a6a509",
   "metadata": {},
   "source": [
    "# for loop"
   ]
  },
  {
   "cell_type": "code",
   "execution_count": 90,
   "id": "8fe2a574",
   "metadata": {},
   "outputs": [
    {
     "name": "stdout",
     "output_type": "stream",
     "text": [
      "apple\n",
      "mango\n",
      "strawberry\n",
      "melon\n",
      "kiwi\n",
      "banana\n",
      "pineapple\n",
      "date\n"
     ]
    }
   ],
   "source": [
    "fruits = (\"apple\", \"mango\", \"strawberry\", \"melon\", \"kiwi\", \"banana\", \"pineapple\", \"date\") \n",
    "for x in fruits:\n",
    "    print(x)"
   ]
  },
  {
   "cell_type": "markdown",
   "id": "fe3defa5",
   "metadata": {},
   "source": [
    "# Loop Through the Index Numbers: range(len(tuple_name))"
   ]
  },
  {
   "cell_type": "code",
   "execution_count": 92,
   "id": "cd6a1a82",
   "metadata": {},
   "outputs": [
    {
     "name": "stdout",
     "output_type": "stream",
     "text": [
      "0 apple\n",
      "1 mango\n",
      "2 strawberry\n",
      "3 melon\n",
      "4 kiwi\n",
      "5 banana\n",
      "6 pineapple\n",
      "7 date\n"
     ]
    }
   ],
   "source": [
    "fruits = (\"apple\", \"mango\", \"strawberry\", \"melon\", \"kiwi\", \"banana\", \"pineapple\", \"date\") \n",
    "for i in range(len(fruits)):\n",
    "    print(i, fruits[i])"
   ]
  },
  {
   "cell_type": "markdown",
   "id": "ea03c2f5",
   "metadata": {},
   "source": [
    "# While Loop"
   ]
  },
  {
   "cell_type": "code",
   "execution_count": 94,
   "id": "6abe5110",
   "metadata": {},
   "outputs": [
    {
     "name": "stdout",
     "output_type": "stream",
     "text": [
      "0 apple\n",
      "1 mango\n",
      "2 strawberry\n",
      "3 melon\n",
      "4 kiwi\n",
      "5 banana\n",
      "6 pineapple\n",
      "7 date\n"
     ]
    }
   ],
   "source": [
    "fruits = (\"apple\", \"mango\", \"strawberry\", \"melon\", \"kiwi\", \"banana\", \"pineapple\", \"date\") \n",
    "i= 0\n",
    "while i < len(fruits):\n",
    "    print(i, fruits[i])\n",
    "    i += 1"
   ]
  },
  {
   "cell_type": "markdown",
   "id": "4e36a98e",
   "metadata": {},
   "source": [
    "# Join Two Tuples: tuple1 + tuple2"
   ]
  },
  {
   "cell_type": "code",
   "execution_count": 95,
   "id": "eb1ea2f0",
   "metadata": {},
   "outputs": [
    {
     "name": "stdout",
     "output_type": "stream",
     "text": [
      "('apple', 'mango', 'strawberry', 'melon', 'kiwi', 'banana', 'pineapple', 'date', 'red', 'blue', 'yellow', 'pink', 'green', 'black', 'gray')\n"
     ]
    }
   ],
   "source": [
    "fruits = (\"apple\", \"mango\", \"strawberry\", \"melon\", \"kiwi\", \"banana\", \"pineapple\", \"date\") \n",
    "colors = (\"red\", \"blue\", \"yellow\", \"pink\", \"green\", \"black\", \"gray\")\n",
    "tuple1 = fruits + colors\n",
    "print(tuple1)"
   ]
  },
  {
   "cell_type": "markdown",
   "id": "00be6239",
   "metadata": {},
   "source": [
    "# Multiply Tuples: tuple_name * 2"
   ]
  },
  {
   "cell_type": "code",
   "execution_count": 96,
   "id": "bbaf08f9",
   "metadata": {},
   "outputs": [
    {
     "name": "stdout",
     "output_type": "stream",
     "text": [
      "('red', 'blue', 'yellow', 'pink', 'green', 'black', 'gray', 'red', 'blue', 'yellow', 'pink', 'green', 'black', 'gray')\n"
     ]
    }
   ],
   "source": [
    "colors = (\"red\", \"blue\", \"yellow\", \"pink\", \"green\", \"black\", \"gray\")\n",
    "tuple1 = colors*2\n",
    "print(tuple1)"
   ]
  },
  {
   "cell_type": "markdown",
   "id": "1e409531",
   "metadata": {},
   "source": [
    "# Returns the number of times a specified value occurs: tuple_name.count(item)"
   ]
  },
  {
   "cell_type": "code",
   "execution_count": 97,
   "id": "fd768c2f",
   "metadata": {},
   "outputs": [
    {
     "name": "stdout",
     "output_type": "stream",
     "text": [
      "2\n"
     ]
    }
   ],
   "source": [
    "colors = (\"red\", \"blue\", \"yellow\", \"pink\", \"green\", \"black\", \"gray\")\n",
    "tuple1 = colors*2\n",
    "print(tuple1.count(\"red\"))"
   ]
  },
  {
   "cell_type": "markdown",
   "id": "1ae4f840",
   "metadata": {},
   "source": [
    "# Searches the tuple for a specified value and returns the position:\n",
    "# tuple_name.index(item)"
   ]
  },
  {
   "cell_type": "code",
   "execution_count": 99,
   "id": "7391061a",
   "metadata": {},
   "outputs": [
    {
     "name": "stdout",
     "output_type": "stream",
     "text": [
      "5\n"
     ]
    }
   ],
   "source": [
    "colors = (\"red\", \"blue\", \"yellow\", \"pink\", \"green\", \"black\", \"gray\")\n",
    "print(colors.index(\"black\"))"
   ]
  },
  {
   "cell_type": "code",
   "execution_count": null,
   "id": "73e15a49",
   "metadata": {},
   "outputs": [],
   "source": []
  }
 ],
 "metadata": {
  "kernelspec": {
   "display_name": "Python 3 (ipykernel)",
   "language": "python",
   "name": "python3"
  },
  "language_info": {
   "codemirror_mode": {
    "name": "ipython",
    "version": 3
   },
   "file_extension": ".py",
   "mimetype": "text/x-python",
   "name": "python",
   "nbconvert_exporter": "python",
   "pygments_lexer": "ipython3",
   "version": "3.10.9"
  }
 },
 "nbformat": 4,
 "nbformat_minor": 5
}
